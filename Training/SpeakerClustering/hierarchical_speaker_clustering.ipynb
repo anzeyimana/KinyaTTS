{
 "cells": [
  {
   "cell_type": "code",
   "execution_count": null,
   "id": "initial_id",
   "metadata": {
    "collapsed": true
   },
   "outputs": [],
   "source": [
    "from mutagen.mp3 import MP3\n",
    "\n",
    "\n",
    "def read_lines(file_name):\n",
    "    f = open(file_name, 'r', encoding='utf-8')\n",
    "    lines = [line.rstrip('\\n') for line in f]\n",
    "    if len(lines[-1]) == 0:\n",
    "        lines = lines[:-1]\n",
    "    if len(lines[-1]) == 0:\n",
    "        lines = lines[:-1]\n",
    "    if len(lines[-1]) == 0:\n",
    "        lines = lines[:-1]\n",
    "    if len(lines[-1]) == 0:\n",
    "        lines = lines[:-1]\n",
    "    f.close()\n",
    "    return lines\n",
    "\n",
    "def pairwise_sim(sim, a_list, b_list):\n",
    "    s = 0.0\n",
    "    c = 0.0\n",
    "    for a in a_list:\n",
    "        for b in b_list:\n",
    "            s += sim[(a,b)]\n",
    "            c += 1.0\n",
    "    return s/c\n",
    "\n",
    "def find_closest2(sim, clusters):\n",
    "    max_idx = (0,1)\n",
    "    max_score = 0.0\n",
    "    for i in range(len(clusters)):\n",
    "        for j in range(i+1,len(clusters)):\n",
    "            score = pairwise_sim(sim, clusters[i], clusters[j])\n",
    "            if score > max_score:\n",
    "                max_idx = (i,j)\n",
    "                max_score = score\n",
    "    return max_idx, max_score\n",
    "\n",
    "def next_gen(sim, clusters):\n",
    "    if len(clusters) == 1:\n",
    "        return clusters, 0.0\n",
    "    (i,j), max_score = find_closest2(sim, clusters)\n",
    "    next_clusters = [sorted(clusters[i]+clusters[j])] + clusters[:i] + clusters[(i+1):j] + clusters[(j+1):]\n",
    "    next_clusters  = sorted(next_clusters, key=lambda x:len(x), reverse=True)\n",
    "    return next_clusters, max_score\n",
    "\n",
    "def total_hours(files,ids):\n",
    "    idset = set(ids)\n",
    "    names = [f for f in files if (f.split('_')[0]) in idset]\n",
    "    return sum([MP3(f'samples/mp3/{name}.mp3').info.length for name in names]) / 3600.0\n",
    "\n",
    "print('Function ready!')"
   ]
  },
  {
   "cell_type": "code",
   "execution_count": null,
   "outputs": [],
   "source": [
    "files = read_lines('samples/huza_imvugo_speech_all.txt')\n",
    "ids = list(set([f.split('_')[0] for f in files]))\n",
    "sim_scores = read_lines('samples/t4_huza_imvugo_speech_similarity.tsv')\n",
    "sim = dict()\n",
    "for sc in sim_scores:\n",
    "    t = sc.split('\\t')\n",
    "    a = t[0].split('_')[0]\n",
    "    b = t[1].split('_')[0]\n",
    "    s = float(t[2])\n",
    "    sim[(a,b)] = s\n",
    "    sim[(b,a)] = s\n",
    "\n",
    "clusters = [[id] for id in ids]\n",
    "max_score = 1.0\n",
    "print(f'Got {len(ids)} ids, {len(sim)} pairs!')"
   ],
   "metadata": {
    "collapsed": false
   },
   "id": "d6ed568c3de138bb"
  },
  {
   "cell_type": "code",
   "execution_count": null,
   "outputs": [],
   "source": [
    "\n",
    "while (max_score > 0.9) and len(clusters) > 50:\n",
    "    clusters, max_score = next_gen(sim, clusters)\n",
    "    print(f'{len(clusters)} @ {max_score:.2f}')\n",
    "\n",
    "print([len(c) for c in clusters[:10]])\n",
    "print([f'{total_hours(files,c):.1f}h' for c in clusters[:10]])"
   ],
   "metadata": {
    "collapsed": false
   },
   "id": "fe6592f8e6d6a367"
  },
  {
   "cell_type": "code",
   "execution_count": null,
   "outputs": [],
   "source": [
    "print('\\n'.join(clusters[9]))"
   ],
   "metadata": {
    "collapsed": false
   },
   "id": "47bbbbd70f2ccc19"
  }
 ],
 "metadata": {
  "kernelspec": {
   "display_name": "Python 3",
   "language": "python",
   "name": "python3"
  },
  "language_info": {
   "codemirror_mode": {
    "name": "ipython",
    "version": 2
   },
   "file_extension": ".py",
   "mimetype": "text/x-python",
   "name": "python",
   "nbconvert_exporter": "python",
   "pygments_lexer": "ipython2",
   "version": "2.7.6"
  }
 },
 "nbformat": 4,
 "nbformat_minor": 5
}
